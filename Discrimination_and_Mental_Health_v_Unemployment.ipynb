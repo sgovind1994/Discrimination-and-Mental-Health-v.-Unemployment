{
  "nbformat": 4,
  "nbformat_minor": 0,
  "metadata": {
    "colab": {
      "name": "Discrimination and Mental Health v. Unemployment.ipynb",
      "provenance": [],
      "collapsed_sections": [],
      "mount_file_id": "1Jgb28ZkPlSpdvlVk7CCmoHNVMF6qaMw1",
      "authorship_tag": "ABX9TyMpNgoUOS5V7DXr2y5ZhnHT",
      "include_colab_link": true
    },
    "kernelspec": {
      "name": "python3",
      "display_name": "Python 3"
    }
  },
  "cells": [
    {
      "cell_type": "markdown",
      "metadata": {
        "id": "view-in-github",
        "colab_type": "text"
      },
      "source": [
        "<a href=\"https://colab.research.google.com/github/sgovind1994/Discrimination-and-Mental-Health-v.-Unemployment/blob/main/Discrimination_and_Mental_Health_v_Unemployment.ipynb\" target=\"_parent\"><img src=\"https://colab.research.google.com/assets/colab-badge.svg\" alt=\"Open In Colab\"/></a>"
      ]
    },
    {
      "cell_type": "markdown",
      "metadata": {
        "id": "OHIrCIJfdw3r"
      },
      "source": [
        "Introduction:\n",
        "\n",
        "Unemployment is an issue that has always affected most Americans at some point in their lives, and struggling to find a job is something that can take a toll on a persons physical and mental well-being. In relation, struggling with mental health issues can also make it challenging to keep and find a job. In addition, many people face age and gender discrimination when searching for a job, depending on the type of job they are searching for. These statistics and my findings should be valuable to a lot of mental health professionals, and job agencies hoping to help people with these problems."
      ]
    },
    {
      "cell_type": "markdown",
      "metadata": {
        "id": "5sgFZHHtgMb-"
      },
      "source": [
        "Importing Libraries and Mount Drive\n",
        "\n"
      ]
    },
    {
      "cell_type": "code",
      "metadata": {
        "id": "PzTfVhvOkokh",
        "colab": {
          "resources": {
            "http://localhost:8080/nbextensions/google.colab/files.js": {
              "data": "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",
              "ok": true,
              "headers": [
                [
                  "content-type",
                  "application/javascript"
                ]
              ],
              "status": 200,
              "status_text": ""
            }
          },
          "base_uri": "https://localhost:8080/",
          "height": 73
        },
        "outputId": "dea94553-10b8-4620-950a-cd483cd7b62f"
      },
      "source": [
        "import pandas as pd\n",
        "from google.colab import files\n",
        "uploaded = files.upload()"
      ],
      "execution_count": 3,
      "outputs": [
        {
          "output_type": "display_data",
          "data": {
            "text/html": [
              "\n",
              "     <input type=\"file\" id=\"files-a1a03268-9dd5-4ae1-b130-954256597cb2\" name=\"files[]\" multiple disabled\n",
              "        style=\"border:none\" />\n",
              "     <output id=\"result-a1a03268-9dd5-4ae1-b130-954256597cb2\">\n",
              "      Upload widget is only available when the cell has been executed in the\n",
              "      current browser session. Please rerun this cell to enable.\n",
              "      </output>\n",
              "      <script src=\"/nbextensions/google.colab/files.js\"></script> "
            ],
            "text/plain": [
              "<IPython.core.display.HTML object>"
            ]
          },
          "metadata": {}
        },
        {
          "output_type": "stream",
          "name": "stdout",
          "text": [
            "Saving Mental Health Data.csv to Mental Health Data.csv\n"
          ]
        }
      ]
    },
    {
      "cell_type": "code",
      "metadata": {
        "id": "xI2V9CXRBgbq",
        "colab": {
          "base_uri": "https://localhost:8080/",
          "height": 1000
        },
        "outputId": "f81ddd46-5a69-4956-976a-69761c2f1a89"
      },
      "source": [
        "import io\n",
        "\n",
        "df = pd.read_csv(io.BytesIO(uploaded['Mental Health Data.csv']))\n",
        "df.info()\n",
        "df.head()"
      ],
      "execution_count": 4,
      "outputs": [
        {
          "output_type": "stream",
          "name": "stdout",
          "text": [
            "<class 'pandas.core.frame.DataFrame'>\n",
            "RangeIndex: 334 entries, 0 to 333\n",
            "Data columns (total 31 columns):\n",
            " #   Column                                                        Non-Null Count  Dtype  \n",
            "---  ------                                                        --------------  -----  \n",
            " 0   I am currently employed at least part-time                    334 non-null    int64  \n",
            " 1   I identify as having a mental illness                         334 non-null    int64  \n",
            " 2   Education                                                     334 non-null    object \n",
            " 3   I have my own computer separate from a smart phone            334 non-null    int64  \n",
            " 4   I have been hospitalized before for my mental illness         334 non-null    int64  \n",
            " 5   How many days were you hospitalized for your mental illness   297 non-null    float64\n",
            " 6   I am legally disabled                                         334 non-null    int64  \n",
            " 7   I have my regular access to the internet                      334 non-null    int64  \n",
            " 8   I live with my parents                                        334 non-null    int64  \n",
            " 9   I have a gap in my resume                                     334 non-null    int64  \n",
            " 10  Total length of any gaps in my resume in months.              334 non-null    int64  \n",
            " 11  Annual income (including any social welfare programs) in USD  334 non-null    int64  \n",
            " 12  I am unemployed                                               334 non-null    int64  \n",
            " 13  I read outside of work and school                             334 non-null    int64  \n",
            " 14  Annual income from social welfare programs                    334 non-null    int64  \n",
            " 15  I receive food stamps                                         334 non-null    int64  \n",
            " 16  I am on section 8 housing                                     334 non-null    int64  \n",
            " 17  How many times were you hospitalized for your mental illness  334 non-null    int64  \n",
            " 18  Lack of concentration                                         333 non-null    float64\n",
            " 19  Anxiety                                                       334 non-null    int64  \n",
            " 20  Depression                                                    334 non-null    int64  \n",
            " 21  Obsessive thinking                                            333 non-null    float64\n",
            " 22  Mood swings                                                   333 non-null    float64\n",
            " 23  Panic attacks                                                 333 non-null    float64\n",
            " 24  Compulsive behavior                                           333 non-null    float64\n",
            " 25  Tiredness                                                     333 non-null    float64\n",
            " 26  Age                                                           334 non-null    object \n",
            " 27  Gender                                                        334 non-null    object \n",
            " 28  Household Income                                              334 non-null    object \n",
            " 29  Region                                                        332 non-null    object \n",
            " 30  Device Type                                                   334 non-null    object \n",
            "dtypes: float64(7), int64(18), object(6)\n",
            "memory usage: 81.0+ KB\n"
          ]
        },
        {
          "output_type": "execute_result",
          "data": {
            "text/html": [
              "<div>\n",
              "<style scoped>\n",
              "    .dataframe tbody tr th:only-of-type {\n",
              "        vertical-align: middle;\n",
              "    }\n",
              "\n",
              "    .dataframe tbody tr th {\n",
              "        vertical-align: top;\n",
              "    }\n",
              "\n",
              "    .dataframe thead th {\n",
              "        text-align: right;\n",
              "    }\n",
              "</style>\n",
              "<table border=\"1\" class=\"dataframe\">\n",
              "  <thead>\n",
              "    <tr style=\"text-align: right;\">\n",
              "      <th></th>\n",
              "      <th>I am currently employed at least part-time</th>\n",
              "      <th>I identify as having a mental illness</th>\n",
              "      <th>Education</th>\n",
              "      <th>I have my own computer separate from a smart phone</th>\n",
              "      <th>I have been hospitalized before for my mental illness</th>\n",
              "      <th>How many days were you hospitalized for your mental illness</th>\n",
              "      <th>I am legally disabled</th>\n",
              "      <th>I have my regular access to the internet</th>\n",
              "      <th>I live with my parents</th>\n",
              "      <th>I have a gap in my resume</th>\n",
              "      <th>Total length of any gaps in my resume in months.</th>\n",
              "      <th>Annual income (including any social welfare programs) in USD</th>\n",
              "      <th>I am unemployed</th>\n",
              "      <th>I read outside of work and school</th>\n",
              "      <th>Annual income from social welfare programs</th>\n",
              "      <th>I receive food stamps</th>\n",
              "      <th>I am on section 8 housing</th>\n",
              "      <th>How many times were you hospitalized for your mental illness</th>\n",
              "      <th>Lack of concentration</th>\n",
              "      <th>Anxiety</th>\n",
              "      <th>Depression</th>\n",
              "      <th>Obsessive thinking</th>\n",
              "      <th>Mood swings</th>\n",
              "      <th>Panic attacks</th>\n",
              "      <th>Compulsive behavior</th>\n",
              "      <th>Tiredness</th>\n",
              "      <th>Age</th>\n",
              "      <th>Gender</th>\n",
              "      <th>Household Income</th>\n",
              "      <th>Region</th>\n",
              "      <th>Device Type</th>\n",
              "    </tr>\n",
              "  </thead>\n",
              "  <tbody>\n",
              "    <tr>\n",
              "      <th>0</th>\n",
              "      <td>0</td>\n",
              "      <td>0</td>\n",
              "      <td>High School or GED</td>\n",
              "      <td>0</td>\n",
              "      <td>0</td>\n",
              "      <td>0.0</td>\n",
              "      <td>0</td>\n",
              "      <td>1</td>\n",
              "      <td>0</td>\n",
              "      <td>1</td>\n",
              "      <td>24</td>\n",
              "      <td>35</td>\n",
              "      <td>1</td>\n",
              "      <td>1</td>\n",
              "      <td>0</td>\n",
              "      <td>0</td>\n",
              "      <td>0</td>\n",
              "      <td>0</td>\n",
              "      <td>1.0</td>\n",
              "      <td>1</td>\n",
              "      <td>1</td>\n",
              "      <td>1.0</td>\n",
              "      <td>0.0</td>\n",
              "      <td>1.0</td>\n",
              "      <td>0.0</td>\n",
              "      <td>0.0</td>\n",
              "      <td>30-44</td>\n",
              "      <td>Male</td>\n",
              "      <td>$25,000-$49,999</td>\n",
              "      <td>Mountain</td>\n",
              "      <td>Android Phone / Tablet</td>\n",
              "    </tr>\n",
              "    <tr>\n",
              "      <th>1</th>\n",
              "      <td>1</td>\n",
              "      <td>1</td>\n",
              "      <td>Some Phd</td>\n",
              "      <td>1</td>\n",
              "      <td>0</td>\n",
              "      <td>0.0</td>\n",
              "      <td>0</td>\n",
              "      <td>1</td>\n",
              "      <td>0</td>\n",
              "      <td>0</td>\n",
              "      <td>1</td>\n",
              "      <td>22</td>\n",
              "      <td>0</td>\n",
              "      <td>1</td>\n",
              "      <td>0</td>\n",
              "      <td>0</td>\n",
              "      <td>0</td>\n",
              "      <td>0</td>\n",
              "      <td>1.0</td>\n",
              "      <td>1</td>\n",
              "      <td>1</td>\n",
              "      <td>0.0</td>\n",
              "      <td>0.0</td>\n",
              "      <td>1.0</td>\n",
              "      <td>0.0</td>\n",
              "      <td>1.0</td>\n",
              "      <td>18-29</td>\n",
              "      <td>Male</td>\n",
              "      <td>$50,000-$74,999</td>\n",
              "      <td>East South Central</td>\n",
              "      <td>MacOS Desktop / Laptop</td>\n",
              "    </tr>\n",
              "    <tr>\n",
              "      <th>2</th>\n",
              "      <td>1</td>\n",
              "      <td>0</td>\n",
              "      <td>Completed Undergraduate</td>\n",
              "      <td>1</td>\n",
              "      <td>0</td>\n",
              "      <td>0.0</td>\n",
              "      <td>0</td>\n",
              "      <td>1</td>\n",
              "      <td>0</td>\n",
              "      <td>0</td>\n",
              "      <td>0</td>\n",
              "      <td>100</td>\n",
              "      <td>0</td>\n",
              "      <td>1</td>\n",
              "      <td>0</td>\n",
              "      <td>0</td>\n",
              "      <td>0</td>\n",
              "      <td>0</td>\n",
              "      <td>0.0</td>\n",
              "      <td>0</td>\n",
              "      <td>0</td>\n",
              "      <td>0.0</td>\n",
              "      <td>0.0</td>\n",
              "      <td>0.0</td>\n",
              "      <td>0.0</td>\n",
              "      <td>0.0</td>\n",
              "      <td>30-44</td>\n",
              "      <td>Male</td>\n",
              "      <td>$150,000-$174,999</td>\n",
              "      <td>Pacific</td>\n",
              "      <td>MacOS Desktop / Laptop</td>\n",
              "    </tr>\n",
              "    <tr>\n",
              "      <th>3</th>\n",
              "      <td>0</td>\n",
              "      <td>0</td>\n",
              "      <td>Some Undergraduate</td>\n",
              "      <td>1</td>\n",
              "      <td>0</td>\n",
              "      <td>NaN</td>\n",
              "      <td>0</td>\n",
              "      <td>1</td>\n",
              "      <td>1</td>\n",
              "      <td>1</td>\n",
              "      <td>11</td>\n",
              "      <td>0</td>\n",
              "      <td>1</td>\n",
              "      <td>1</td>\n",
              "      <td>0</td>\n",
              "      <td>0</td>\n",
              "      <td>0</td>\n",
              "      <td>0</td>\n",
              "      <td>0.0</td>\n",
              "      <td>0</td>\n",
              "      <td>0</td>\n",
              "      <td>0.0</td>\n",
              "      <td>0.0</td>\n",
              "      <td>0.0</td>\n",
              "      <td>0.0</td>\n",
              "      <td>0.0</td>\n",
              "      <td>30-44</td>\n",
              "      <td>Male</td>\n",
              "      <td>$25,000-$49,999</td>\n",
              "      <td>New England</td>\n",
              "      <td>Windows Desktop / Laptop</td>\n",
              "    </tr>\n",
              "    <tr>\n",
              "      <th>4</th>\n",
              "      <td>1</td>\n",
              "      <td>1</td>\n",
              "      <td>Completed Undergraduate</td>\n",
              "      <td>1</td>\n",
              "      <td>1</td>\n",
              "      <td>35.0</td>\n",
              "      <td>1</td>\n",
              "      <td>1</td>\n",
              "      <td>0</td>\n",
              "      <td>1</td>\n",
              "      <td>33</td>\n",
              "      <td>32</td>\n",
              "      <td>0</td>\n",
              "      <td>1</td>\n",
              "      <td>30</td>\n",
              "      <td>0</td>\n",
              "      <td>0</td>\n",
              "      <td>4</td>\n",
              "      <td>1.0</td>\n",
              "      <td>1</td>\n",
              "      <td>1</td>\n",
              "      <td>1.0</td>\n",
              "      <td>1.0</td>\n",
              "      <td>1.0</td>\n",
              "      <td>1.0</td>\n",
              "      <td>1.0</td>\n",
              "      <td>30-44</td>\n",
              "      <td>Male</td>\n",
              "      <td>$25,000-$49,999</td>\n",
              "      <td>East North Central</td>\n",
              "      <td>iOS Phone / Tablet</td>\n",
              "    </tr>\n",
              "  </tbody>\n",
              "</table>\n",
              "</div>"
            ],
            "text/plain": [
              "   I am currently employed at least part-time  ...               Device Type\n",
              "0                                           0  ...    Android Phone / Tablet\n",
              "1                                           1  ...    MacOS Desktop / Laptop\n",
              "2                                           1  ...    MacOS Desktop / Laptop\n",
              "3                                           0  ...  Windows Desktop / Laptop\n",
              "4                                           1  ...        iOS Phone / Tablet\n",
              "\n",
              "[5 rows x 31 columns]"
            ]
          },
          "metadata": {},
          "execution_count": 4
        }
      ]
    },
    {
      "cell_type": "markdown",
      "metadata": {
        "id": "GQvC8WUqcf7F"
      },
      "source": [
        "Inital Data Exploration"
      ]
    },
    {
      "cell_type": "code",
      "metadata": {
        "id": "f1GYcHoBr6Pt",
        "colab": {
          "base_uri": "https://localhost:8080/"
        },
        "outputId": "cc6e6933-fac3-4dea-9797-553989304b42"
      },
      "source": [
        "def series_statistics(column):\n",
        "  print('statistics for column: {}'.format(column.name))\n",
        "  print('The max value in the column: {}'.format(column.max()))\n",
        "  print('The min value in the column: {}'.format(column.min()))\n",
        "  print('The mode value in the column: {}'.format(column.mode()))\n",
        "  print('The median value in the column: {}'.format(column.median()))\n",
        "  print('The mean of the column: {}'.format(column.mean()))\n",
        "  print('The std of the column: {}'.format(column.std()))\n",
        "\n",
        "series_statistics(df['Annual income (including any social welfare programs) in USD'])"
      ],
      "execution_count": 5,
      "outputs": [
        {
          "output_type": "stream",
          "name": "stdout",
          "text": [
            "statistics for column: Annual income (including any social welfare programs) in USD\n",
            "The max value in the column: 100\n",
            "The min value in the column: 0\n",
            "The mode value in the column: 0    0\n",
            "dtype: int64\n",
            "The median value in the column: 30.0\n",
            "The mean of the column: 37.4251497005988\n",
            "The std of the column: 30.651564472831993\n"
          ]
        }
      ]
    },
    {
      "cell_type": "code",
      "metadata": {
        "id": "zMz0gQ-psRUj",
        "colab": {
          "base_uri": "https://localhost:8080/"
        },
        "outputId": "9c5912cb-c3c4-4b06-92fb-87a4f4e284e2"
      },
      "source": [
        "df['Annual income (including any social welfare programs) in USD'].describe()"
      ],
      "execution_count": 6,
      "outputs": [
        {
          "output_type": "execute_result",
          "data": {
            "text/plain": [
              "count    334.000000\n",
              "mean      37.425150\n",
              "std       30.651564\n",
              "min        0.000000\n",
              "25%       12.000000\n",
              "50%       30.000000\n",
              "75%       55.000000\n",
              "max      100.000000\n",
              "Name: Annual income (including any social welfare programs) in USD, dtype: float64"
            ]
          },
          "metadata": {},
          "execution_count": 6
        }
      ]
    },
    {
      "cell_type": "code",
      "metadata": {
        "id": "Uyjcf3vCvORj",
        "colab": {
          "base_uri": "https://localhost:8080/",
          "height": 143
        },
        "outputId": "6831f6d2-4b8a-4fa0-de6c-d2e8f3de9600"
      },
      "source": [
        "df[['I am unemployed', 'Depression', 'Anxiety']].corr()"
      ],
      "execution_count": 7,
      "outputs": [
        {
          "output_type": "execute_result",
          "data": {
            "text/html": [
              "<div>\n",
              "<style scoped>\n",
              "    .dataframe tbody tr th:only-of-type {\n",
              "        vertical-align: middle;\n",
              "    }\n",
              "\n",
              "    .dataframe tbody tr th {\n",
              "        vertical-align: top;\n",
              "    }\n",
              "\n",
              "    .dataframe thead th {\n",
              "        text-align: right;\n",
              "    }\n",
              "</style>\n",
              "<table border=\"1\" class=\"dataframe\">\n",
              "  <thead>\n",
              "    <tr style=\"text-align: right;\">\n",
              "      <th></th>\n",
              "      <th>I am unemployed</th>\n",
              "      <th>Depression</th>\n",
              "      <th>Anxiety</th>\n",
              "    </tr>\n",
              "  </thead>\n",
              "  <tbody>\n",
              "    <tr>\n",
              "      <th>I am unemployed</th>\n",
              "      <td>1.000000</td>\n",
              "      <td>0.170011</td>\n",
              "      <td>0.168219</td>\n",
              "    </tr>\n",
              "    <tr>\n",
              "      <th>Depression</th>\n",
              "      <td>0.170011</td>\n",
              "      <td>1.000000</td>\n",
              "      <td>0.586840</td>\n",
              "    </tr>\n",
              "    <tr>\n",
              "      <th>Anxiety</th>\n",
              "      <td>0.168219</td>\n",
              "      <td>0.586840</td>\n",
              "      <td>1.000000</td>\n",
              "    </tr>\n",
              "  </tbody>\n",
              "</table>\n",
              "</div>"
            ],
            "text/plain": [
              "                 I am unemployed  Depression   Anxiety\n",
              "I am unemployed         1.000000    0.170011  0.168219\n",
              "Depression              0.170011    1.000000  0.586840\n",
              "Anxiety                 0.168219    0.586840  1.000000"
            ]
          },
          "metadata": {},
          "execution_count": 7
        }
      ]
    },
    {
      "cell_type": "code",
      "metadata": {
        "id": "NPOaeLcZmFRT",
        "colab": {
          "base_uri": "https://localhost:8080/",
          "height": 396
        },
        "outputId": "c4acadeb-a9a3-44dd-e42b-29805c7b0c14"
      },
      "source": [
        "import pandas as pd\n",
        "import seaborn as sns \n",
        "sns.set()\n",
        "import matplotlib.pyplot as plt\n",
        "\n",
        "df = pd.read_csv ('/content/Mental Health Data.csv')\n",
        "\n",
        "plt.figure(figsize=(12, 5))\n",
        "inc_hist = sns.distplot(df['Annual income (including any social welfare programs) in USD'], bins = 40, kde=False)"
      ],
      "execution_count": 8,
      "outputs": [
        {
          "output_type": "stream",
          "name": "stderr",
          "text": [
            "/usr/local/lib/python3.7/dist-packages/seaborn/distributions.py:2619: FutureWarning: `distplot` is a deprecated function and will be removed in a future version. Please adapt your code to use either `displot` (a figure-level function with similar flexibility) or `histplot` (an axes-level function for histograms).\n",
            "  warnings.warn(msg, FutureWarning)\n"
          ]
        },
        {
          "output_type": "display_data",
          "data": {
            "image/png": "[encoded data removed]",
            "text/plain": [
              "<Figure size 864x360 with 1 Axes>"
            ]
          },
          "metadata": {}
        }
      ]
    },
    {
      "cell_type": "code",
      "metadata": {
        "id": "1i-f8NXJeXjf",
        "colab": {
          "base_uri": "https://localhost:8080/",
          "height": 443
        },
        "outputId": "6e5f6cf5-dd74-4d6c-cc6c-fd257645d52a"
      },
      "source": [
        "sns.jointplot(x=\"Annual income (including any social welfare programs) in USD\", y=\"How many days were you hospitalized for your mental illness\", data=df)"
      ],
      "execution_count": 9,
      "outputs": [
        {
          "output_type": "execute_result",
          "data": {
            "text/plain": [
              "<seaborn.axisgrid.JointGrid at 0x7f47e04be050>"
            ]
          },
          "metadata": {},
          "execution_count": 9
        },
        {
          "output_type": "display_data",
          "data": {
            "image/png": "[encoded data removed]",
            "text/plain": [
              "<Figure size 432x432 with 3 Axes>"
            ]
          },
          "metadata": {}
        }
      ]
    },
    {
      "cell_type": "markdown",
      "metadata": {
        "id": "mD7FL2YHyz2O"
      },
      "source": [
        "The initial exploration of the data indicates the following findings:\n",
        "\n",
        "1) There is a wide distribution of Annual Income \n",
        "\n",
        "2) Given the positive correlation coefficient of 0.58, most people who have reported experiencing depression, have also experienced anxiety\n",
        "\n",
        "3) Since most of these variables are binary, I found that it would be most effective to model my research questions around the following variables: Gender and Age"
      ]
    },
    {
      "cell_type": "markdown",
      "metadata": {
        "id": "cWtOlkJkKaQ1"
      },
      "source": [
        "# Research Question #1: Is there a higher frequency of unemployment for those 45 and older?"
      ]
    },
    {
      "cell_type": "markdown",
      "metadata": {
        "id": "nUtVYNpLdQfh"
      },
      "source": [
        "Ho: There is no difference in the means of unemployment between those who are under the age of 45 and those who are 45-60\n",
        "\n",
        "Ha: There is a significant difference in the means of unemployment between those who are under the age of 45 and those who are 45-60\n",
        "\n"
      ]
    },
    {
      "cell_type": "markdown",
      "metadata": {
        "id": "Q0E1zmFnYtPp"
      },
      "source": [
        "There are 99 entries for those ages 45-60, and 52 entries for those who are significant younger, ages 18-29. I have used these two groups of data to run a two-sample t-test:"
      ]
    },
    {
      "cell_type": "code",
      "metadata": {
        "id": "4_tUjthKpILW",
        "colab": {
          "base_uri": "https://localhost:8080/"
        },
        "outputId": "e63b2c69-679e-4e45-db37-ad5167a7962d"
      },
      "source": [
        "people_40 = df.iloc[(df['Age'] == '45-60').values]\n",
        "people_40.info()"
      ],
      "execution_count": 10,
      "outputs": [
        {
          "output_type": "stream",
          "name": "stdout",
          "text": [
            "<class 'pandas.core.frame.DataFrame'>\n",
            "Int64Index: 99 entries, 54 to 329\n",
            "Data columns (total 31 columns):\n",
            " #   Column                                                        Non-Null Count  Dtype  \n",
            "---  ------                                                        --------------  -----  \n",
            " 0   I am currently employed at least part-time                    99 non-null     int64  \n",
            " 1   I identify as having a mental illness                         99 non-null     int64  \n",
            " 2   Education                                                     99 non-null     object \n",
            " 3   I have my own computer separate from a smart phone            99 non-null     int64  \n",
            " 4   I have been hospitalized before for my mental illness         99 non-null     int64  \n",
            " 5   How many days were you hospitalized for your mental illness   92 non-null     float64\n",
            " 6   I am legally disabled                                         99 non-null     int64  \n",
            " 7   I have my regular access to the internet                      99 non-null     int64  \n",
            " 8   I live with my parents                                        99 non-null     int64  \n",
            " 9   I have a gap in my resume                                     99 non-null     int64  \n",
            " 10  Total length of any gaps in my resume in months.              99 non-null     int64  \n",
            " 11  Annual income (including any social welfare programs) in USD  99 non-null     int64  \n",
            " 12  I am unemployed                                               99 non-null     int64  \n",
            " 13  I read outside of work and school                             99 non-null     int64  \n",
            " 14  Annual income from social welfare programs                    99 non-null     int64  \n",
            " 15  I receive food stamps                                         99 non-null     int64  \n",
            " 16  I am on section 8 housing                                     99 non-null     int64  \n",
            " 17  How many times were you hospitalized for your mental illness  99 non-null     int64  \n",
            " 18  Lack of concentration                                         99 non-null     float64\n",
            " 19  Anxiety                                                       99 non-null     int64  \n",
            " 20  Depression                                                    99 non-null     int64  \n",
            " 21  Obsessive thinking                                            99 non-null     float64\n",
            " 22  Mood swings                                                   99 non-null     float64\n",
            " 23  Panic attacks                                                 99 non-null     float64\n",
            " 24  Compulsive behavior                                           99 non-null     float64\n",
            " 25  Tiredness                                                     99 non-null     float64\n",
            " 26  Age                                                           99 non-null     object \n",
            " 27  Gender                                                        99 non-null     object \n",
            " 28  Household Income                                              99 non-null     object \n",
            " 29  Region                                                        99 non-null     object \n",
            " 30  Device Type                                                   99 non-null     object \n",
            "dtypes: float64(7), int64(18), object(6)\n",
            "memory usage: 24.8+ KB\n"
          ]
        }
      ]
    },
    {
      "cell_type": "code",
      "metadata": {
        "id": "XFcMBV9dqggq",
        "colab": {
          "base_uri": "https://localhost:8080/"
        },
        "outputId": "6f591617-1678-4f0e-ad47-f50d7117b021"
      },
      "source": [
        "people_18 = df.iloc[(df['Age'] == '18-29').values]\n",
        "people_18.info()"
      ],
      "execution_count": 11,
      "outputs": [
        {
          "output_type": "stream",
          "name": "stdout",
          "text": [
            "<class 'pandas.core.frame.DataFrame'>\n",
            "Int64Index: 52 entries, 1 to 333\n",
            "Data columns (total 31 columns):\n",
            " #   Column                                                        Non-Null Count  Dtype  \n",
            "---  ------                                                        --------------  -----  \n",
            " 0   I am currently employed at least part-time                    52 non-null     int64  \n",
            " 1   I identify as having a mental illness                         52 non-null     int64  \n",
            " 2   Education                                                     52 non-null     object \n",
            " 3   I have my own computer separate from a smart phone            52 non-null     int64  \n",
            " 4   I have been hospitalized before for my mental illness         52 non-null     int64  \n",
            " 5   How many days were you hospitalized for your mental illness   45 non-null     float64\n",
            " 6   I am legally disabled                                         52 non-null     int64  \n",
            " 7   I have my regular access to the internet                      52 non-null     int64  \n",
            " 8   I live with my parents                                        52 non-null     int64  \n",
            " 9   I have a gap in my resume                                     52 non-null     int64  \n",
            " 10  Total length of any gaps in my resume in months.              52 non-null     int64  \n",
            " 11  Annual income (including any social welfare programs) in USD  52 non-null     int64  \n",
            " 12  I am unemployed                                               52 non-null     int64  \n",
            " 13  I read outside of work and school                             52 non-null     int64  \n",
            " 14  Annual income from social welfare programs                    52 non-null     int64  \n",
            " 15  I receive food stamps                                         52 non-null     int64  \n",
            " 16  I am on section 8 housing                                     52 non-null     int64  \n",
            " 17  How many times were you hospitalized for your mental illness  52 non-null     int64  \n",
            " 18  Lack of concentration                                         51 non-null     float64\n",
            " 19  Anxiety                                                       52 non-null     int64  \n",
            " 20  Depression                                                    52 non-null     int64  \n",
            " 21  Obsessive thinking                                            51 non-null     float64\n",
            " 22  Mood swings                                                   51 non-null     float64\n",
            " 23  Panic attacks                                                 51 non-null     float64\n",
            " 24  Compulsive behavior                                           51 non-null     float64\n",
            " 25  Tiredness                                                     51 non-null     float64\n",
            " 26  Age                                                           52 non-null     object \n",
            " 27  Gender                                                        52 non-null     object \n",
            " 28  Household Income                                              52 non-null     object \n",
            " 29  Region                                                        52 non-null     object \n",
            " 30  Device Type                                                   52 non-null     object \n",
            "dtypes: float64(7), int64(18), object(6)\n",
            "memory usage: 13.0+ KB\n"
          ]
        }
      ]
    },
    {
      "cell_type": "code",
      "metadata": {
        "id": "XQYfgE30qtgF",
        "colab": {
          "base_uri": "https://localhost:8080/"
        },
        "outputId": "3104e9e7-d009-4e4a-e932-647f617002c3"
      },
      "source": [
        "from scipy import stats\n",
        "stats.ttest_ind(people_40['I am unemployed'], people_18['I am unemployed'])"
      ],
      "execution_count": 12,
      "outputs": [
        {
          "output_type": "execute_result",
          "data": {
            "text/plain": [
              "Ttest_indResult(statistic=-1.7660997659070146, pvalue=0.07942706744313456)"
            ]
          },
          "metadata": {},
          "execution_count": 12
        }
      ]
    },
    {
      "cell_type": "code",
      "metadata": {
        "id": "BVakIHBrvnM0",
        "colab": {
          "base_uri": "https://localhost:8080/"
        },
        "outputId": "975ad157-0fff-438f-eb6d-d3cf182a52b6"
      },
      "source": [
        "sample_1_n = people_40.shape[0]\n",
        "sample_2_n = people_18.shape[0]\n",
        "sample_1_mean = people_40['I am unemployed'].mean()\n",
        "sample_2_mean = people_18['I am unemployed'].mean()\n",
        "sample_1_var = people_40['I am unemployed'].var()\n",
        "sample_2_var = people_18['I am unemployed'].var()\n",
        "\n",
        "import math\n",
        "std_err_difference = math.sqrt((sample_1_var/sample_1_n)+(sample_2_var/sample_2_n))\n",
        "\n",
        "mean_difference = sample_2_mean - sample_1_mean\n",
        "\n",
        "margin_of_error = 1.96 * std_err_difference\n",
        "ci_lower = mean_difference - margin_of_error\n",
        "ci_upper = mean_difference + margin_of_error\n",
        "\n",
        "print(\"The difference in means at the 95% confidence interval is between \"+str(ci_lower)+\" and \"+str(ci_upper)+\".\")"
      ],
      "execution_count": 13,
      "outputs": [
        {
          "output_type": "stream",
          "name": "stdout",
          "text": [
            "The difference in means at the 95% confidence interval is between -0.022034871517248533 and 0.2737831232655003.\n"
          ]
        }
      ]
    },
    {
      "cell_type": "markdown",
      "metadata": {
        "id": "nRyOLNtE0sal"
      },
      "source": [
        "Given that the p-value > 0.05, this indicates that there is weak evidence against the null hypothesis, so we should fail to reject the null hyothesis. Therefore, there is no difference in means for those age 45-60 and those age 18-29."
      ]
    },
    {
      "cell_type": "markdown",
      "metadata": {
        "id": "XMAuQWglmLsE"
      },
      "source": [
        ""
      ]
    },
    {
      "cell_type": "markdown",
      "metadata": {
        "id": "_gLSd2llaKaP"
      },
      "source": [
        "Research Question #2: Is there a higher frequency of unemployment among Females vs. Males?\n",
        "\n",
        "Ho: There is no difference in the means of unemployment between Males and Females\n",
        "\n",
        "Ha: There is a significant difference in the means of unemployment between Males and Females"
      ]
    },
    {
      "cell_type": "code",
      "metadata": {
        "id": "6S8ScfY9VvQb",
        "colab": {
          "base_uri": "https://localhost:8080/"
        },
        "outputId": "4ecbd631-d1ce-4491-fd19-5678ab56d7d8"
      },
      "source": [
        "Gender_1 = df.iloc[(df['Gender'] == 'Female').values]\n",
        "Gender_1.info()"
      ],
      "execution_count": 14,
      "outputs": [
        {
          "output_type": "stream",
          "name": "stdout",
          "text": [
            "<class 'pandas.core.frame.DataFrame'>\n",
            "Int64Index: 176 entries, 97 to 333\n",
            "Data columns (total 31 columns):\n",
            " #   Column                                                        Non-Null Count  Dtype  \n",
            "---  ------                                                        --------------  -----  \n",
            " 0   I am currently employed at least part-time                    176 non-null    int64  \n",
            " 1   I identify as having a mental illness                         176 non-null    int64  \n",
            " 2   Education                                                     176 non-null    object \n",
            " 3   I have my own computer separate from a smart phone            176 non-null    int64  \n",
            " 4   I have been hospitalized before for my mental illness         176 non-null    int64  \n",
            " 5   How many days were you hospitalized for your mental illness   153 non-null    float64\n",
            " 6   I am legally disabled                                         176 non-null    int64  \n",
            " 7   I have my regular access to the internet                      176 non-null    int64  \n",
            " 8   I live with my parents                                        176 non-null    int64  \n",
            " 9   I have a gap in my resume                                     176 non-null    int64  \n",
            " 10  Total length of any gaps in my resume in months.              176 non-null    int64  \n",
            " 11  Annual income (including any social welfare programs) in USD  176 non-null    int64  \n",
            " 12  I am unemployed                                               176 non-null    int64  \n",
            " 13  I read outside of work and school                             176 non-null    int64  \n",
            " 14  Annual income from social welfare programs                    176 non-null    int64  \n",
            " 15  I receive food stamps                                         176 non-null    int64  \n",
            " 16  I am on section 8 housing                                     176 non-null    int64  \n",
            " 17  How many times were you hospitalized for your mental illness  176 non-null    int64  \n",
            " 18  Lack of concentration                                         175 non-null    float64\n",
            " 19  Anxiety                                                       176 non-null    int64  \n",
            " 20  Depression                                                    176 non-null    int64  \n",
            " 21  Obsessive thinking                                            175 non-null    float64\n",
            " 22  Mood swings                                                   175 non-null    float64\n",
            " 23  Panic attacks                                                 175 non-null    float64\n",
            " 24  Compulsive behavior                                           175 non-null    float64\n",
            " 25  Tiredness                                                     175 non-null    float64\n",
            " 26  Age                                                           176 non-null    object \n",
            " 27  Gender                                                        176 non-null    object \n",
            " 28  Household Income                                              176 non-null    object \n",
            " 29  Region                                                        176 non-null    object \n",
            " 30  Device Type                                                   176 non-null    object \n",
            "dtypes: float64(7), int64(18), object(6)\n",
            "memory usage: 44.0+ KB\n"
          ]
        }
      ]
    },
    {
      "cell_type": "code",
      "metadata": {
        "id": "Iyev7EUuV4EP",
        "colab": {
          "base_uri": "https://localhost:8080/"
        },
        "outputId": "c908147d-7664-43da-d327-b65b52d4e3ed"
      },
      "source": [
        "Gender_2 = df.iloc[(df['Gender'] == 'Male').values]\n",
        "Gender_2.info()"
      ],
      "execution_count": 15,
      "outputs": [
        {
          "output_type": "stream",
          "name": "stdout",
          "text": [
            "<class 'pandas.core.frame.DataFrame'>\n",
            "Int64Index: 158 entries, 0 to 330\n",
            "Data columns (total 31 columns):\n",
            " #   Column                                                        Non-Null Count  Dtype  \n",
            "---  ------                                                        --------------  -----  \n",
            " 0   I am currently employed at least part-time                    158 non-null    int64  \n",
            " 1   I identify as having a mental illness                         158 non-null    int64  \n",
            " 2   Education                                                     158 non-null    object \n",
            " 3   I have my own computer separate from a smart phone            158 non-null    int64  \n",
            " 4   I have been hospitalized before for my mental illness         158 non-null    int64  \n",
            " 5   How many days were you hospitalized for your mental illness   144 non-null    float64\n",
            " 6   I am legally disabled                                         158 non-null    int64  \n",
            " 7   I have my regular access to the internet                      158 non-null    int64  \n",
            " 8   I live with my parents                                        158 non-null    int64  \n",
            " 9   I have a gap in my resume                                     158 non-null    int64  \n",
            " 10  Total length of any gaps in my resume in months.              158 non-null    int64  \n",
            " 11  Annual income (including any social welfare programs) in USD  158 non-null    int64  \n",
            " 12  I am unemployed                                               158 non-null    int64  \n",
            " 13  I read outside of work and school                             158 non-null    int64  \n",
            " 14  Annual income from social welfare programs                    158 non-null    int64  \n",
            " 15  I receive food stamps                                         158 non-null    int64  \n",
            " 16  I am on section 8 housing                                     158 non-null    int64  \n",
            " 17  How many times were you hospitalized for your mental illness  158 non-null    int64  \n",
            " 18  Lack of concentration                                         158 non-null    float64\n",
            " 19  Anxiety                                                       158 non-null    int64  \n",
            " 20  Depression                                                    158 non-null    int64  \n",
            " 21  Obsessive thinking                                            158 non-null    float64\n",
            " 22  Mood swings                                                   158 non-null    float64\n",
            " 23  Panic attacks                                                 158 non-null    float64\n",
            " 24  Compulsive behavior                                           158 non-null    float64\n",
            " 25  Tiredness                                                     158 non-null    float64\n",
            " 26  Age                                                           158 non-null    object \n",
            " 27  Gender                                                        158 non-null    object \n",
            " 28  Household Income                                              158 non-null    object \n",
            " 29  Region                                                        156 non-null    object \n",
            " 30  Device Type                                                   158 non-null    object \n",
            "dtypes: float64(7), int64(18), object(6)\n",
            "memory usage: 39.5+ KB\n"
          ]
        }
      ]
    },
    {
      "cell_type": "code",
      "metadata": {
        "id": "thZg_TdyWEMt",
        "colab": {
          "base_uri": "https://localhost:8080/"
        },
        "outputId": "4cabb6c2-0446-4dd2-e749-0aa0c91e28da"
      },
      "source": [
        "from scipy import stats\n",
        "stats.ttest_ind(Gender_1['I am unemployed'], Gender_2['I am unemployed'])"
      ],
      "execution_count": 16,
      "outputs": [
        {
          "output_type": "execute_result",
          "data": {
            "text/plain": [
              "Ttest_indResult(statistic=1.1725821707488733, pvalue=0.24180406495246273)"
            ]
          },
          "metadata": {},
          "execution_count": 16
        }
      ]
    },
    {
      "cell_type": "code",
      "metadata": {
        "id": "7Dsw1Y7wWgbb",
        "colab": {
          "base_uri": "https://localhost:8080/"
        },
        "outputId": "0509538b-8727-433f-cd80-fe04c559feff"
      },
      "source": [
        "sample_1_n = Gender_1.shape[0]\n",
        "sample_2_n = Gender_2.shape[0]\n",
        "sample_1_mean = Gender_1['I am unemployed'].mean()\n",
        "sample_2_mean = Gender_2['I am unemployed'].mean()\n",
        "sample_1_var = Gender_1['I am unemployed'].var()\n",
        "sample_2_var = Gender_2['I am unemployed'].var()\n",
        "\n",
        "import math\n",
        "std_err_difference = math.sqrt((sample_1_var/sample_1_n)+(sample_2_var/sample_2_n))\n",
        "\n",
        "mean_difference = sample_2_mean - sample_1_mean\n",
        "\n",
        "margin_of_error = 1.96 * std_err_difference\n",
        "ci_lower = mean_difference - margin_of_error\n",
        "ci_upper = mean_difference + margin_of_error\n",
        "\n",
        "print(\"The difference in means at the 95% confidence interval is between \"+str(ci_lower)+\" and \"+str(ci_upper)+\".\")"
      ],
      "execution_count": 17,
      "outputs": [
        {
          "output_type": "stream",
          "name": "stdout",
          "text": [
            "The difference in means at the 95% confidence interval is between -0.14988865896959727 and 0.037403043319424595.\n"
          ]
        }
      ]
    },
    {
      "cell_type": "markdown",
      "metadata": {
        "id": "MryefcWZ1KpH"
      },
      "source": [
        "Given that the p_value is > 0.05, this indicates that there is weak evidence against the null hypothesis. Therefore, there is no difference in the frequency of unemployment between Males and Females."
      ]
    },
    {
      "cell_type": "markdown",
      "metadata": {
        "id": "mFeE7wIV3BPZ"
      },
      "source": [
        "After conducting tests based on these two research questions, even though the null hypothesis was proven to be true in both cases, I was able to rule out two possible sources of discrimination regarding unemployment. It can now be said that gender and age are not necessarily factors when it comes to unemployment, despite what I was lead to believe. However, I can still make recommendations based on these findings, and the initial findings I made during my data exploration."
      ]
    },
    {
      "cell_type": "markdown",
      "metadata": {
        "id": "4gaSYxl3dnLZ"
      },
      "source": [
        "Reccommendations:\n",
        "\n",
        "1) Make more counseling and therapy avalaible to those who might not be able to afford it, and take into account that even though someone is employed, they can still face depression, along with anxiety\n",
        "\n",
        "2) Continue to ensure that gender and age should not affect unemployment numbers, and everyone should have equal access to jobs"
      ]
    }
  ]
}